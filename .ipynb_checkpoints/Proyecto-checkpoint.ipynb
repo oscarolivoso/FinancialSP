{
 "cells": [
  {
   "cell_type": "markdown",
   "id": "ca89d854-2c2b-4264-9efa-7d5ce3735b2f",
   "metadata": {},
   "source": [
    "# Proyecto final\n",
    "## Nombre: Go_Fin\n",
    "    - Go_Fin es una herramienta basada en las empresas que componen el índice S&P500 y permite realizar un análisis de estados financieros de alguna entidad con base al sector e industria"
   ]
  },
  {
   "cell_type": "markdown",
   "id": "7b17ad8a-0dfd-44eb-970b-ab1e4a5647f5",
   "metadata": {},
   "source": [
    "Las paqueterías a usar durante todo el proyecto son las siguientes:\n",
    "(la falta de alguna puede afectar el resultado)"
   ]
  },
  {
   "cell_type": "code",
   "execution_count": 1,
   "id": "33d76474-37a3-4ae7-83c9-ffbfc589e18d",
   "metadata": {},
   "outputs": [],
   "source": [
    "import pandas as pd\n",
    "import numpy as np\n",
    "import matplotlib.pyplot as plt\n",
    "import seaborn as sns\n",
    "import plotly.graph_objects as go\n",
    "import plotly.express as px\n",
    "import plotly.figure_factory as ff\n",
    "from functools import reduce"
   ]
  },
  {
   "cell_type": "markdown",
   "id": "ff1aebb0-b8a4-4abb-b102-328ee83f00cc",
   "metadata": {},
   "source": [
    "Origen de los datos:  Capital IQ (plug-in excel) y fórmulas de excel\n",
    "\n",
    "Existen 4 datasets que consisten en lo siguiente:\n",
    "1. balance: estado de situación financiera o balance general\n",
    "2. income: estado de resultados\n",
    "3. capital_structure: estructura de deuda de la entidad\n"
   ]
  },
  {
   "cell_type": "code",
   "execution_count": 2,
   "id": "3dd4b1f5-2cc6-4253-b26c-c2baf45273cb",
   "metadata": {},
   "outputs": [],
   "source": [
    "balance = pd.read_csv('Datasets/bs.csv', index_col = 0)\n",
    "income = pd.read_csv('Datasets/is.csv', index_col = 0)\n",
    "capital_structure = pd.read_csv('Datasets/cs.csv', index_col = 0)\n",
    "company_info = pd.read_csv('Datasets/company_information.csv')"
   ]
  },
  {
   "cell_type": "markdown",
   "id": "ae838b0e-6619-4a37-ae9c-6e10d18db6a1",
   "metadata": {},
   "source": [
    "Todos los datasets tuvieron un previa manipulación en RStudio y debido al cambio de entorno se decidió no realizar un reproceso de lo ya hecho"
   ]
  },
  {
   "cell_type": "markdown",
   "id": "622faf08-27c6-426b-a0b6-d5cfd33da7bb",
   "metadata": {},
   "source": [
    "Previsualización de los tipos de datos de cada DataSet:"
   ]
  },
  {
   "cell_type": "code",
   "execution_count": 3,
   "id": "5848699e-29c3-4781-8fa1-d5e9da37c15a",
   "metadata": {},
   "outputs": [
    {
     "data": {
      "text/plain": [
       "Ticker                       object\n",
       "Symbol                       object\n",
       "Stock                        object\n",
       "Sector                       object\n",
       "Year_as                      object\n",
       "Year                          int64\n",
       "Company_Name                 object\n",
       "CASH                        float64\n",
       "ST_INVESTMENTS              float64\n",
       "RECEIVABLES                 float64\n",
       "INVENTORY                   float64\n",
       "OTHER_CURRENT_ASSETS        float64\n",
       "TOTAL_CURRENT_ASSETS        float64\n",
       "PP&E                        float64\n",
       "DEPRECIATION                float64\n",
       "LT_INVESTMENTS              float64\n",
       "INTANGIBLES_GW              float64\n",
       "OTHER_NON_CURRENT_ASSETS    float64\n",
       "NON_CURRENT_ASSETS          float64\n",
       "TOTAL_ASSETS                float64\n",
       "PAYABLES                    float64\n",
       "ST_DEBT                     float64\n",
       "CPLTD_DEBT                  float64\n",
       "CPLTD_LEASES                float64\n",
       "CURRENT_LIAB                float64\n",
       "LT_DEBT                     float64\n",
       "LT_LEASES                   float64\n",
       "OTHER_NON_CURRENT_LIAB      float64\n",
       "NON_CURRENT_LIAB            float64\n",
       "TOTAL_LIAB                  float64\n",
       "RETAINED_EAR                float64\n",
       "TOTAL_EQUITY                float64\n",
       "dtype: object"
      ]
     },
     "execution_count": 3,
     "metadata": {},
     "output_type": "execute_result"
    }
   ],
   "source": [
    "balance.dtypes"
   ]
  },
  {
   "cell_type": "code",
   "execution_count": 4,
   "id": "b8715b55-3994-4dfe-9346-425165be4c58",
   "metadata": {},
   "outputs": [
    {
     "data": {
      "text/plain": [
       "Ticker                  object\n",
       "Symbol                  object\n",
       "Stock                   object\n",
       "Sector                  object\n",
       "Year                     int64\n",
       "Year_as                 object\n",
       "Company_Name            object\n",
       "TOTAL_REVENUES         float64\n",
       "COGS                   float64\n",
       "GROSS_PROFIT           float64\n",
       "SG_A                   float64\n",
       "R_D                    float64\n",
       "D_A                    float64\n",
       "A_INTANGIBLES          float64\n",
       "NET_INTEREST_EXP       float64\n",
       "UNUSUAL_ITEMS          float64\n",
       "EBT                    float64\n",
       "TAX_EXPENSE            float64\n",
       "E_CONT_OPER            float64\n",
       "E_DISC_OPER            float64\n",
       "EXTR_ITEMS               int64\n",
       "OTHER_ADJUSTMENTS      float64\n",
       "M_A_COST               float64\n",
       "NET_INCOME_INCL_EI     float64\n",
       "NET_INCOME_EXCL_EI     float64\n",
       "RENTAL_EXPENSE         float64\n",
       "INTEREST_LT            float64\n",
       "TAXES                  float64\n",
       "DEFERRED_TAX           float64\n",
       "EBIT                   float64\n",
       "EBITDA                 float64\n",
       "CONSOLIDATED_EBITDA    float64\n",
       "EBITDAR                float64\n",
       "dtype: object"
      ]
     },
     "execution_count": 4,
     "metadata": {},
     "output_type": "execute_result"
    }
   ],
   "source": [
    "income.dtypes"
   ]
  },
  {
   "cell_type": "code",
   "execution_count": 5,
   "id": "a48f365b-c56f-4595-8186-ec9a2881a69c",
   "metadata": {},
   "outputs": [
    {
     "data": {
      "text/plain": [
       "Identifier           object\n",
       "Stock                object\n",
       "Symbol               object\n",
       "Company_Name         object\n",
       "GICS_Sector          object\n",
       "GICS_Sub-Industry    object\n",
       "Region               object\n",
       "States               object\n",
       "Date_first_added     object\n",
       "CIK                   int64\n",
       "Founded               int64\n",
       "IPO Year             object\n",
       "Country              object\n",
       "Volume               object\n",
       "Market Cap           object\n",
       "dtype: object"
      ]
     },
     "execution_count": 5,
     "metadata": {},
     "output_type": "execute_result"
    }
   ],
   "source": [
    "company_info.dtypes"
   ]
  },
  {
   "cell_type": "code",
   "execution_count": 6,
   "id": "b5114dca-4ae1-4740-a26f-a99cf51667e0",
   "metadata": {},
   "outputs": [],
   "source": [
    "company_info.rename(columns = {\"GICS_Sub-Industry\": \"GICS_SubIndustry\"}, inplace=True)"
   ]
  },
  {
   "cell_type": "code",
   "execution_count": 7,
   "id": "1608b93d-f31d-455f-8259-30a8d9475dc9",
   "metadata": {},
   "outputs": [],
   "source": [
    "ticker_1 = company_info.Symbol.unique()\n",
    "ticker_symbol = ticker_1.tolist()\n",
    "company_Name = company_info.Company_Name.unique()\n",
    "sector = company_info.GICS_Sector.unique()\n",
    "subsector = company_info.GICS_SubIndustry.unique()"
   ]
  },
  {
   "cell_type": "markdown",
   "id": "74f2cc20-006a-4241-984e-b6b826618fab",
   "metadata": {},
   "source": [
    "Este código no se puede borrar ya que es el que valida información en el programa:"
   ]
  },
  {
   "cell_type": "code",
   "execution_count": 8,
   "id": "48895732-4e2c-45fd-9527-81dda3c64144",
   "metadata": {},
   "outputs": [],
   "source": [
    "list_year = [2015,2016,2017,2018,2019,2020]"
   ]
  },
  {
   "cell_type": "markdown",
   "id": "a57cf530-3d3d-489d-9665-087092ba9dd0",
   "metadata": {},
   "source": [
    "Conociendo las columnas de cada DataSet:"
   ]
  },
  {
   "cell_type": "code",
   "execution_count": 9,
   "id": "5804acd4-cd78-4447-99b0-672ee169d238",
   "metadata": {},
   "outputs": [
    {
     "data": {
      "text/plain": [
       "Index(['Ticker', 'Symbol', 'Stock', 'Sector', 'Year_as', 'Year',\n",
       "       'Company_Name', 'CASH', 'ST_INVESTMENTS', 'RECEIVABLES', 'INVENTORY',\n",
       "       'OTHER_CURRENT_ASSETS', 'TOTAL_CURRENT_ASSETS', 'PP&E', 'DEPRECIATION',\n",
       "       'LT_INVESTMENTS', 'INTANGIBLES_GW', 'OTHER_NON_CURRENT_ASSETS',\n",
       "       'NON_CURRENT_ASSETS', 'TOTAL_ASSETS', 'PAYABLES', 'ST_DEBT',\n",
       "       'CPLTD_DEBT', 'CPLTD_LEASES', 'CURRENT_LIAB', 'LT_DEBT', 'LT_LEASES',\n",
       "       'OTHER_NON_CURRENT_LIAB', 'NON_CURRENT_LIAB', 'TOTAL_LIAB',\n",
       "       'RETAINED_EAR', 'TOTAL_EQUITY'],\n",
       "      dtype='object')"
      ]
     },
     "execution_count": 9,
     "metadata": {},
     "output_type": "execute_result"
    }
   ],
   "source": [
    "balance.columns"
   ]
  },
  {
   "cell_type": "code",
   "execution_count": 10,
   "id": "7386bc61-ec7d-4808-83e0-4561ee5dbf75",
   "metadata": {},
   "outputs": [
    {
     "data": {
      "text/plain": [
       "Index(['Ticker', 'Symbol', 'Stock', 'Sector', 'Year', 'Year_as',\n",
       "       'Company_Name', 'TOTAL_REVENUES', 'COGS', 'GROSS_PROFIT', 'SG_A', 'R_D',\n",
       "       'D_A', 'A_INTANGIBLES', 'NET_INTEREST_EXP', 'UNUSUAL_ITEMS', 'EBT',\n",
       "       'TAX_EXPENSE', 'E_CONT_OPER', 'E_DISC_OPER', 'EXTR_ITEMS',\n",
       "       'OTHER_ADJUSTMENTS', 'M_A_COST', 'NET_INCOME_INCL_EI',\n",
       "       'NET_INCOME_EXCL_EI', 'RENTAL_EXPENSE', 'INTEREST_LT', 'TAXES',\n",
       "       'DEFERRED_TAX', 'EBIT', 'EBITDA', 'CONSOLIDATED_EBITDA', 'EBITDAR'],\n",
       "      dtype='object')"
      ]
     },
     "execution_count": 10,
     "metadata": {},
     "output_type": "execute_result"
    }
   ],
   "source": [
    "income.columns"
   ]
  },
  {
   "cell_type": "markdown",
   "id": "dc80453c-e21d-4726-8168-567f2e206431",
   "metadata": {},
   "source": [
    "**Para poder realizar los dataset de ratios financieros se ocupó como fuente la siguiente:**\n",
    "Fuente = Corporate Finance Institute\n",
    "\n",
    "1. Ratios de Leverage (apalancamiento)\n",
    "Debt to assets = Debt / Assets\n",
    "Debt to equity = Debt / Equity\n",
    "Debt to Capital Ratio = Debt / Capital\n",
    "Debt to EBITDA = Debt / EBITDA\n",
    "Asset to Equity Ratio = Assets / Equity\n",
    "Total Liabilities / Net Worth\n",
    "\n",
    "2. Ratios de coverage (cobertura)\n",
    "Interest Coverage = Operating Income / Interest Expense\n",
    "Debt Service Coverage Ratio = Operating Income / Total Debt Service\n",
    "Cash Coverage Ratio = Total Cash / Interest Expense\n",
    "Asset Coverage Ratio = (Total Assets - Intangible Assets) - (Current Liabilities -Short Term Debt) / Interest Expense\n",
    "\n",
    "3. Ratios de Liquidity (liquidez)\n",
    "Current ratio = current assets / current liabilities\n",
    "Acid test = Current assets - Inventories / Current liabilities\n",
    "Quick Ratio = Cash + accounts receivables  + markeatable securities / current liabilities\n",
    "Cash ratio = Cash + Marketable securities / current liabilities\n",
    "\n",
    "4. Profitability Ratios\n",
    "Gross Profit Margin\n",
    "EBITDA margin\n",
    "Operating profit margin\n",
    "Net Profit Margin\n",
    "Return on assets\n",
    "Return on Equity\n",
    "ROIC\n",
    "\n",
    "5. Market Value Ratios\n",
    "Book value per share ratio = (Shareholders Equity - Preffered equity) / Total shares outstanding\n",
    "Dividend yiel ratio = Dividen per share / Share price\n",
    "Earnings per share = Net earnings / total shares outstanding\n",
    "Price-earnings ratio = Share Price / Earnings per share"
   ]
  },
  {
   "cell_type": "markdown",
   "id": "ec05d7d6-539f-4331-9771-477de50b5739",
   "metadata": {},
   "source": [
    "**Aquí inicia la elaboración de los dataset**"
   ]
  },
  {
   "cell_type": "code",
   "execution_count": 11,
   "id": "a30b78a5-6768-4a8d-87ff-5122f9c74836",
   "metadata": {},
   "outputs": [
    {
     "data": {
      "text/plain": [
       "Index(['Ticker', 'Symbol', 'Stock_x', 'Sector_x', 'Year_as_x', 'Year',\n",
       "       'Company_Name_x', 'CASH', 'ST_INVESTMENTS', 'RECEIVABLES', 'INVENTORY',\n",
       "       'OTHER_CURRENT_ASSETS', 'TOTAL_CURRENT_ASSETS', 'PP&E', 'DEPRECIATION',\n",
       "       'LT_INVESTMENTS', 'INTANGIBLES_GW', 'OTHER_NON_CURRENT_ASSETS',\n",
       "       'NON_CURRENT_ASSETS', 'TOTAL_ASSETS', 'PAYABLES', 'ST_DEBT',\n",
       "       'CPLTD_DEBT', 'CPLTD_LEASES', 'CURRENT_LIAB', 'LT_DEBT', 'LT_LEASES',\n",
       "       'OTHER_NON_CURRENT_LIAB', 'NON_CURRENT_LIAB', 'TOTAL_LIAB',\n",
       "       'RETAINED_EAR', 'TOTAL_EQUITY', 'TOTAL_REVENUES', 'COGS',\n",
       "       'GROSS_PROFIT', 'SG_A', 'R_D', 'D_A', 'A_INTANGIBLES',\n",
       "       'NET_INTEREST_EXP', 'UNUSUAL_ITEMS', 'EBT', 'TAX_EXPENSE',\n",
       "       'E_CONT_OPER', 'E_DISC_OPER', 'EXTR_ITEMS', 'OTHER_ADJUSTMENTS',\n",
       "       'M_A_COST', 'NET_INCOME_INCL_EI', 'NET_INCOME_EXCL_EI',\n",
       "       'RENTAL_EXPENSE', 'INTEREST_LT', 'TAXES', 'DEFERRED_TAX', 'EBIT',\n",
       "       'EBITDA', 'CONSOLIDATED_EBITDA', 'EBITDAR', 'GICS_SubIndustry'],\n",
       "      dtype='object')"
      ]
     },
     "execution_count": 11,
     "metadata": {},
     "output_type": "execute_result"
    }
   ],
   "source": [
    "df_ratio = balance.merge(income, how = 'inner', left_on = ['Ticker', 'Symbol', 'Year'], right_on = ['Ticker', 'Symbol', 'Year'])\n",
    "df_ratio = pd.merge(df_ratio, company_info[['Symbol','GICS_SubIndustry']], on = ['Symbol'] )\n",
    "df_ratio = df_ratio.drop(['Stock_y', 'Sector_y', 'Year_as_y','Company_Name_y'], axis = 1)\n",
    "df_ratio.columns"
   ]
  },
  {
   "cell_type": "code",
   "execution_count": 12,
   "id": "0cbcf665-7f8e-4129-9143-047cd6e5bfc0",
   "metadata": {},
   "outputs": [],
   "source": [
    "df_ratio['TOTAL_DEBT'] = df_ratio['ST_DEBT'] + df_ratio['CPLTD_DEBT'] + df_ratio['CPLTD_LEASES'] + df_ratio['LT_DEBT'] + df_ratio['LT_LEASES']"
   ]
  },
  {
   "cell_type": "code",
   "execution_count": 13,
   "id": "53061672-2d90-4305-ad8c-7f972d1a84ad",
   "metadata": {},
   "outputs": [],
   "source": [
    "df_ratio1 = df_ratio.copy(deep = True)"
   ]
  },
  {
   "cell_type": "markdown",
   "id": "508fef85-5b37-42e1-add7-2112c7264ba7",
   "metadata": {},
   "source": [
    "***LEVERAGE***"
   ]
  },
  {
   "cell_type": "code",
   "execution_count": 14,
   "id": "d4211067-5818-4e0f-a221-37ba4aac97ed",
   "metadata": {},
   "outputs": [],
   "source": [
    "df_ratio1['DEBT_TO_ASSETS'] = round(df_ratio1['TOTAL_DEBT'] / df_ratio1['TOTAL_ASSETS'],2)\n",
    "df_ratio1['DEBT_TO_EQUITY'] = round(df_ratio1['TOTAL_DEBT'] / df_ratio1['TOTAL_EQUITY'],2)\n",
    "df_ratio1['DEBT_TO_CAPITAL'] = round(df_ratio1['TOTAL_DEBT'] / (df_ratio1['TOTAL_EQUITY']-df_ratio1['RETAINED_EAR']),2)\n",
    "df_ratio1['DEBT_TO_EBITDA'] = round(df_ratio1['TOTAL_DEBT'] / df_ratio1['CONSOLIDATED_EBITDA'],2)\n",
    "df_ratio1['DEBT_TO_EBITDAR'] = round(df_ratio1['TOTAL_DEBT'] / df_ratio1['EBITDAR'],2)\n",
    "df_ratio1['ASSET_TO_EQUITY'] = round(df_ratio1['TOTAL_ASSETS'] / df_ratio1['TOTAL_EQUITY'],2)\n",
    "df_ratio1['LIABILITIES_TO_EQUITY'] = round(df_ratio1['TOTAL_LIAB'] / df_ratio1['TOTAL_EQUITY'],2)"
   ]
  },
  {
   "cell_type": "code",
   "execution_count": 15,
   "id": "4e203110-45d9-4d55-be89-f26e996023d6",
   "metadata": {},
   "outputs": [
    {
     "data": {
      "text/plain": [
       "Ticker                    object\n",
       "Symbol                    object\n",
       "Stock_x                   object\n",
       "Sector_x                  object\n",
       "Year_as_x                 object\n",
       "Year                       int64\n",
       "Company_Name_x            object\n",
       "GICS_SubIndustry          object\n",
       "TOTAL_DEBT               float64\n",
       "DEBT_TO_ASSETS           float64\n",
       "DEBT_TO_EQUITY           float64\n",
       "DEBT_TO_CAPITAL          float64\n",
       "DEBT_TO_EBITDA           float64\n",
       "DEBT_TO_EBITDAR          float64\n",
       "ASSET_TO_EQUITY          float64\n",
       "LIABILITIES_TO_EQUITY    float64\n",
       "dtype: object"
      ]
     },
     "execution_count": 15,
     "metadata": {},
     "output_type": "execute_result"
    }
   ],
   "source": [
    "leverage = df_ratio1.drop(['CASH', 'ST_INVESTMENTS', 'RECEIVABLES', 'INVENTORY','OTHER_CURRENT_ASSETS', 'TOTAL_CURRENT_ASSETS', 'PP&E', 'DEPRECIATION','LT_INVESTMENTS', 'INTANGIBLES_GW', 'OTHER_NON_CURRENT_ASSETS','NON_CURRENT_ASSETS', 'TOTAL_ASSETS', 'PAYABLES', 'ST_DEBT','CPLTD_DEBT', 'CPLTD_LEASES', 'CURRENT_LIAB', 'LT_DEBT', 'LT_LEASES','OTHER_NON_CURRENT_LIAB', 'NON_CURRENT_LIAB', 'TOTAL_LIAB','RETAINED_EAR', 'TOTAL_EQUITY', 'TOTAL_REVENUES', 'COGS','GROSS_PROFIT', 'SG_A', 'R_D', 'D_A', 'A_INTANGIBLES','NET_INTEREST_EXP', 'UNUSUAL_ITEMS', 'EBT', 'TAX_EXPENSE','E_CONT_OPER', 'E_DISC_OPER', 'EXTR_ITEMS', 'OTHER_ADJUSTMENTS','M_A_COST', 'NET_INCOME_INCL_EI', 'NET_INCOME_EXCL_EI','RENTAL_EXPENSE', 'INTEREST_LT', 'TAXES', 'DEFERRED_TAX', 'EBIT','EBITDA', 'CONSOLIDATED_EBITDA', 'EBITDAR'], axis = 1)\n",
    "leverage.dtypes"
   ]
  },
  {
   "cell_type": "markdown",
   "id": "78f78f0c-ae95-40cc-ace9-bbd0932f7b8c",
   "metadata": {},
   "source": [
    "***COVERAGE***"
   ]
  },
  {
   "cell_type": "code",
   "execution_count": 16,
   "id": "68099e41-d52c-4156-9f1d-61871d244275",
   "metadata": {},
   "outputs": [],
   "source": [
    "df_ratio2 = df_ratio.copy(deep = True)"
   ]
  },
  {
   "cell_type": "code",
   "execution_count": 17,
   "id": "e28fddd1-c923-4e07-adf0-0f69669c1339",
   "metadata": {},
   "outputs": [],
   "source": [
    "df_ratio2['INTEREST_COVERAGE'] = round(df_ratio2['EBIT'] / df_ratio2['NET_INTEREST_EXP'],2)\n",
    "df_ratio2['DEBT_SERVICE_COVERAGE'] = round(df_ratio2['EBIT'] / df_ratio2['TOTAL_DEBT'],2)\n",
    "df_ratio2['CASH_COVERAGE'] = round(df_ratio2['CASH'] / df_ratio2['NET_INTEREST_EXP'],2)\n",
    "df_ratio2['ASSET_COVERAGE'] = round((df_ratio2['TOTAL_ASSETS'] - df_ratio2['INTANGIBLES_GW']) - (df_ratio2['CURRENT_LIAB'] - df_ratio2['ST_DEBT'])   / df_ratio2['NET_INTEREST_EXP'],2)"
   ]
  },
  {
   "cell_type": "code",
   "execution_count": 18,
   "id": "72b74778-c388-40c2-a865-5b14a317d33d",
   "metadata": {},
   "outputs": [],
   "source": [
    "coverage = df_ratio2.drop(['CASH', 'ST_INVESTMENTS', 'RECEIVABLES', 'INVENTORY','OTHER_CURRENT_ASSETS', 'TOTAL_CURRENT_ASSETS', 'PP&E', 'DEPRECIATION','LT_INVESTMENTS', 'INTANGIBLES_GW', 'OTHER_NON_CURRENT_ASSETS','NON_CURRENT_ASSETS', 'TOTAL_ASSETS', 'PAYABLES', 'ST_DEBT','CPLTD_DEBT', 'CPLTD_LEASES', 'CURRENT_LIAB', 'LT_DEBT', 'LT_LEASES','OTHER_NON_CURRENT_LIAB', 'NON_CURRENT_LIAB', 'TOTAL_LIAB','RETAINED_EAR', 'TOTAL_EQUITY', 'TOTAL_REVENUES', 'COGS','GROSS_PROFIT', 'SG_A', 'R_D', 'D_A', 'A_INTANGIBLES','NET_INTEREST_EXP', 'UNUSUAL_ITEMS', 'EBT', 'TAX_EXPENSE','E_CONT_OPER', 'E_DISC_OPER', 'EXTR_ITEMS', 'OTHER_ADJUSTMENTS','M_A_COST', 'NET_INCOME_INCL_EI', 'NET_INCOME_EXCL_EI','RENTAL_EXPENSE', 'INTEREST_LT', 'TAXES', 'DEFERRED_TAX', 'EBIT','EBITDA', 'CONSOLIDATED_EBITDA', 'EBITDAR'], axis = 1)"
   ]
  },
  {
   "cell_type": "markdown",
   "id": "8afcaaec-0419-4e22-989e-3b6e807b4b7b",
   "metadata": {},
   "source": [
    "***LIQUIDITY***"
   ]
  },
  {
   "cell_type": "code",
   "execution_count": 19,
   "id": "cb2fdcb1-ebfc-4cab-bf75-6be3cba92705",
   "metadata": {},
   "outputs": [],
   "source": [
    "df_ratio3 = df_ratio.copy(deep = True)"
   ]
  },
  {
   "cell_type": "code",
   "execution_count": 20,
   "id": "9a0a81e1-d356-4027-8c70-319b64c41aad",
   "metadata": {},
   "outputs": [],
   "source": [
    "df_ratio3['CURRENT_RATIO'] = round((df_ratio3['TOTAL_CURRENT_ASSETS'] - df_ratio3['INVENTORY']) / df_ratio3['CURRENT_LIAB'],2)\n",
    "df_ratio3['QUICK_RATIO'] = round((df_ratio3['CASH'] + df_ratio3['RECEIVABLES'] + df_ratio3['ST_INVESTMENTS']) / df_ratio3['CURRENT_LIAB'],2)\n",
    "df_ratio3['CASH_RATIO'] = round((df_ratio3['CASH'] + df_ratio3['ST_INVESTMENTS']) / df_ratio3['CURRENT_LIAB'],2)"
   ]
  },
  {
   "cell_type": "code",
   "execution_count": 21,
   "id": "508173f0-028e-41d3-9a93-da20dff8ca88",
   "metadata": {},
   "outputs": [],
   "source": [
    "liquidity = df_ratio3.drop(['CASH', 'ST_INVESTMENTS', 'RECEIVABLES', 'INVENTORY','OTHER_CURRENT_ASSETS', 'TOTAL_CURRENT_ASSETS', 'PP&E', 'DEPRECIATION','LT_INVESTMENTS', 'INTANGIBLES_GW', 'OTHER_NON_CURRENT_ASSETS','NON_CURRENT_ASSETS', 'TOTAL_ASSETS', 'PAYABLES', 'ST_DEBT','CPLTD_DEBT', 'CPLTD_LEASES', 'CURRENT_LIAB', 'LT_DEBT', 'LT_LEASES','OTHER_NON_CURRENT_LIAB', 'NON_CURRENT_LIAB', 'TOTAL_LIAB','RETAINED_EAR', 'TOTAL_EQUITY', 'TOTAL_REVENUES', 'COGS','GROSS_PROFIT', 'SG_A', 'R_D', 'D_A', 'A_INTANGIBLES','NET_INTEREST_EXP', 'UNUSUAL_ITEMS', 'EBT', 'TAX_EXPENSE','E_CONT_OPER', 'E_DISC_OPER', 'EXTR_ITEMS', 'OTHER_ADJUSTMENTS','M_A_COST', 'NET_INCOME_INCL_EI', 'NET_INCOME_EXCL_EI','RENTAL_EXPENSE', 'INTEREST_LT', 'TAXES', 'DEFERRED_TAX', 'EBIT','EBITDA', 'CONSOLIDATED_EBITDA', 'EBITDAR'], axis = 1)"
   ]
  },
  {
   "cell_type": "markdown",
   "id": "14083b5b-d44a-4e7f-b3d5-fcbc206fae4b",
   "metadata": {},
   "source": [
    "***PROFITABILITY***"
   ]
  },
  {
   "cell_type": "code",
   "execution_count": 22,
   "id": "b1746cfe-9e45-44c4-aa2f-1fc380610e3f",
   "metadata": {},
   "outputs": [],
   "source": [
    "df_ratio4 = df_ratio.copy(deep = True)"
   ]
  },
  {
   "cell_type": "code",
   "execution_count": 23,
   "id": "09846544-ed26-4e9e-8414-3992165991ce",
   "metadata": {},
   "outputs": [],
   "source": [
    "df_ratio4['GROSS_MARGIN'] = round(df_ratio4['GROSS_PROFIT'] / df_ratio4['TOTAL_REVENUES'],2)\n",
    "df_ratio4['EBITDA_MARGIN'] = round(df_ratio4['CONSOLIDATED_EBITDA'] / df_ratio4['TOTAL_REVENUES'],2)\n",
    "df_ratio4['EBIT_MARGIN'] = round(df_ratio4['EBIT'] / df_ratio4['TOTAL_REVENUES'],2)\n",
    "df_ratio4['NET_MARGIN'] = round(df_ratio4['NET_INCOME_EXCL_EI'] / df_ratio4['TOTAL_REVENUES'],2)\n",
    "df_ratio4['ROA'] = round(df_ratio4['TOTAL_REVENUES'] / df_ratio4['TOTAL_ASSETS'],2)\n",
    "df_ratio4['ROE'] = round(df_ratio4['TOTAL_REVENUES'] / df_ratio4['TOTAL_EQUITY'],2)"
   ]
  },
  {
   "cell_type": "code",
   "execution_count": 24,
   "id": "6f2c9972-314c-49dc-a47d-b3654674bd9d",
   "metadata": {},
   "outputs": [],
   "source": [
    "profitability = df_ratio4.drop(['CASH', 'ST_INVESTMENTS', 'RECEIVABLES', 'INVENTORY','OTHER_CURRENT_ASSETS', 'TOTAL_CURRENT_ASSETS', 'PP&E', 'DEPRECIATION','LT_INVESTMENTS', 'INTANGIBLES_GW', 'OTHER_NON_CURRENT_ASSETS','NON_CURRENT_ASSETS', 'TOTAL_ASSETS', 'PAYABLES', 'ST_DEBT','CPLTD_DEBT', 'CPLTD_LEASES', 'CURRENT_LIAB', 'LT_DEBT', 'LT_LEASES','OTHER_NON_CURRENT_LIAB', 'NON_CURRENT_LIAB', 'TOTAL_LIAB','RETAINED_EAR', 'TOTAL_EQUITY', 'TOTAL_REVENUES', 'COGS','GROSS_PROFIT', 'SG_A', 'R_D', 'D_A', 'A_INTANGIBLES','NET_INTEREST_EXP', 'UNUSUAL_ITEMS', 'EBT', 'TAX_EXPENSE','E_CONT_OPER', 'E_DISC_OPER', 'EXTR_ITEMS', 'OTHER_ADJUSTMENTS','M_A_COST', 'NET_INCOME_INCL_EI', 'NET_INCOME_EXCL_EI','RENTAL_EXPENSE', 'INTEREST_LT', 'TAXES', 'DEFERRED_TAX', 'EBIT','EBITDA', 'CONSOLIDATED_EBITDA', 'EBITDAR'], axis = 1)"
   ]
  },
  {
   "cell_type": "markdown",
   "id": "0206ec70-093f-44c2-8144-b043e04cb6fb",
   "metadata": {},
   "source": [
    "## DESARROLLO DEL PROGRAMA"
   ]
  },
  {
   "cell_type": "markdown",
   "id": "de184233-d328-4983-92d8-7c5d31c829c2",
   "metadata": {},
   "source": [
    "El programa fue elaborado con 'def function()', para evitar poner código adicional en el formato menú y fuera más fácil su elaboración\n",
    "\n",
    "***la eliminación de cualquier celda podría afectar el funcionamiento del programa***\n"
   ]
  },
  {
   "cell_type": "code",
   "execution_count": 25,
   "id": "cb05dbf6-1389-48ba-9b33-b0bb44b37465",
   "metadata": {},
   "outputs": [],
   "source": [
    "def login():\n",
    "    login = str(input(\"BeFinData, please login: \"))\n",
    "    print(f\"Welcome {login}! :)\")\n",
    "    print(\"----- MENU -----\")\n",
    "\n",
    "def Menu():\n",
    "    global menu\n",
    "    print()\n",
    "    print(\"[1] Financial Information\")\n",
    "    print(\"[2] Financial Analysis\")\n",
    "    print(\"[3] Market information\")\n",
    "    print(\"[0] Exit\")\n",
    "    menu = int(input('-------Select one option:-------'))\n",
    "    \n",
    "def financial_infomenu():\n",
    "    global select_data\n",
    "    print(\"[1] Balance Sheet\")\n",
    "    print(\"[2] Income Statement\")\n",
    "    print(\"[3] Capital Structure\")\n",
    "    print(\"[0] Return to menu\")\n",
    "    print()\n",
    "    select_data = int(input(\"\"\"-----What Financial Statement do you want to print?:-----\"\"\"))\n",
    "    \n",
    "def time_print():\n",
    "    print(\"[1] Select year from 2015 to 2020\")\n",
    "    print(\"[2] All years\")\n",
    "    print(\"[0] Return to menu\")\n"
   ]
  },
  {
   "cell_type": "code",
   "execution_count": 26,
   "id": "4e16ef25-dcaf-4a17-933e-a4aa251a8d47",
   "metadata": {},
   "outputs": [],
   "source": [
    "def company_validate():\n",
    "    global company\n",
    "    global sector_company\n",
    "    global industry_company\n",
    "    company = input('Ticker Company: ')\n",
    "    while company != 0:\n",
    "        global company_name\n",
    "        if company in ticker_symbol:   \n",
    "            company_name = str(company_info['Company_Name'][company_info['Symbol'] == company].iloc[0])\n",
    "            stock = str(company_info['Stock'][company_info['Symbol'] == company].iloc[0])\n",
    "            sector_company = str(company_info['GICS_Sector'][company_info['Symbol'] == company].iloc[0])\n",
    "            industry_company = str(company_info['GICS_SubIndustry'][company_info['Symbol'] == company].iloc[0])\n",
    "            print(f\"\"\"------Company Information------\n",
    "\n",
    "            Company Name: {company_name}\n",
    "            Company Ticker: {company}\n",
    "            Stock List: {stock}\n",
    "            Sector: {sector_company}\n",
    "            Industry: {industry_company}\n",
    "\n",
    "            \"\"\")\n",
    "            break;\n",
    "        else:\n",
    "            print(\"Incorrect Ticker\")\n",
    "            print()\n",
    "            company = input('Ticker Company: ')\n",
    "    print('-----------------')"
   ]
  },
  {
   "cell_type": "markdown",
   "id": "1b7a653c-7ea9-4b3e-83ba-e38b89581119",
   "metadata": {},
   "source": [
    "**Continua estructura:**"
   ]
  },
  {
   "cell_type": "code",
   "execution_count": 27,
   "id": "06ab8de4-7177-4f9c-a33f-356c4192d7ec",
   "metadata": {},
   "outputs": [],
   "source": [
    "def financial_print():\n",
    "    global select_data\n",
    "    financial_infomenu()\n",
    "    while select_data != 0:   \n",
    "        if select_data == 1:\n",
    "            time_print()\n",
    "            print()\n",
    "            option = int(input(\"\"\"-----Select time:-----\"\"\"))\n",
    "            while option != 0:\n",
    "                if option == 1:\n",
    "                    print()\n",
    "                    year = int(input('Select a Year (for 2015 to 2020 format: YYYY): '))\n",
    "                    if year in list_year:\n",
    "                        balance1 = balance.copy(deep = True)\n",
    "                        filter_balance  = balance1[(balance1['Symbol'] == company) & (balance1['Year']==year)]\n",
    "                        print()\n",
    "                        print(f\"\"\"**Balance sheet of {company_name} year {year} was succesfully export**\"\"\")\n",
    "                        filter_balance.to_csv(f'Datasets/Pruebas/balancesheet_{company_name}_{year}.csv', index = False, header=True)\n",
    "                        break;\n",
    "                    else:\n",
    "                        print()\n",
    "                        print('------Sorry my database is limited from 2015 to 2020------')\n",
    "                        if year in list_year == True:\n",
    "                            break;\n",
    "                elif option == 2: \n",
    "                    balance1 = balance.copy(deep = True)\n",
    "                    filter_balance  = balance1[balance1['Symbol'] == company]\n",
    "                    print()\n",
    "                    print(f\"\"\"Balance sheet of {company_name} from 2015 to 2020 was succesfully export\"\"\")\n",
    "                    filter_balance.to_csv(f'Datasets/Pruebas/balancesheet_{company_name}_2015to2020.csv', index = False, header=True)\n",
    "                    break;\n",
    "                else:\n",
    "                    print()\n",
    "                    print('Invalid option')\n",
    "                    break;\n",
    "            print()\n",
    "            print('******Thanks for using Balance Sheet App :) *******')\n",
    "            print()\n",
    "            print('Loading.......')\n",
    "            print()\n",
    "            financial_infomenu()\n",
    "    ######AQUI ES EL CODIGO DE INCOME STATEMENT\n",
    "        elif select_data == 2:\n",
    "            time_print()\n",
    "            print()\n",
    "            option = int(input(\"\"\"-----Select time:-----\"\"\"))  \n",
    "            global income1\n",
    "            while option != 0:\n",
    "                if option == 1:\n",
    "                    print()\n",
    "                    year = int(input('Select a Year (for 2015 to 2020 format: YYYY): '))\n",
    "                    if year in list_year:\n",
    "                        income1 = income.copy(deep = True)\n",
    "                        filter_income  = income1[(income1['Symbol'] == company) & (income1['Year']==year)]\n",
    "                        print()\n",
    "                        print(f\"\"\"**Income statement of {company_name} year {year} was succesfully export**\"\"\")\n",
    "                        filter_income.to_csv(f'Datasets/Pruebas/incomestatement_{company_name}_{year}.csv', index = False, header=True)\n",
    "                        break;\n",
    "                    else:\n",
    "                        print()\n",
    "                        print('------Sorry my database is limited from 2015 to 2020------')\n",
    "                        if year in list_year == True:\n",
    "                            break;\n",
    "                elif option == 2: \n",
    "                    income1 = income.copy(deep = True)\n",
    "                    filter_income  = income1[income1['Symbol'] == company]\n",
    "                    print()\n",
    "                    print(f\"\"\"Income statement of {company_name} from 2015 to 2020 was succesfully export\"\"\")\n",
    "                    filter_income.to_csv(f'Datasets/Pruebas/incomestatement_{company_name}_2015to2020.csv', index = False, header=True)\n",
    "                    break;\n",
    "                else:\n",
    "                    print()\n",
    "                    print('Invalid option')\n",
    "                    break;\n",
    "            print()\n",
    "            print('******Thanks for using Income Statement App :) *******')\n",
    "            print()\n",
    "            print('Loading.......')\n",
    "            print()\n",
    "            financial_infomenu()\n",
    "\n",
    "        elif select_data == 3:\n",
    "            time_print()\n",
    "            print()\n",
    "            option = int(input(\"\"\"-----Select time:-----\"\"\"))\n",
    "            global capital_structure1\n",
    "            while option != 0:\n",
    "                if option == 1:\n",
    "                    print()\n",
    "                    year = int(input('Select a Year (for 2015 to 2020 format: YYYY): '))\n",
    "                    if year in list_year:\n",
    "                        capital_structure1 = capital_structure.copy(deep = True)\n",
    "                        filter_capital_structure  = capital_structure1[(capital_structure1['Symbol'] == company) & (capital_structure1['Year']==year)]\n",
    "                        print()\n",
    "                        print(f\"\"\"**Capital structure of {company_name} year {year} was succesfully export**\"\"\")\n",
    "                        filter_capital_structure.to_csv(f'Datasets/Pruebas/capitalstructure_{company_name}_{year}.csv', index = False, header=True)\n",
    "                        if True:\n",
    "                            break;\n",
    "                        if False:\n",
    "                            continue;\n",
    "                    else:\n",
    "                        print()\n",
    "                        print('------Sorry my database is limited from 2015 to 2020------')\n",
    "                        if year in list_year == True:\n",
    "                            break;\n",
    "                elif option == 2:  \n",
    "                    capital_structure1 = capital_structure.copy(deep = True)\n",
    "                    filter_capital_structure  = capital_structure1[capital_structure1['Symbol'] == company]\n",
    "                    print()\n",
    "                    print(f\"\"\"Capital structure of {company_name} from 2015 to 2020 was succesfully export\"\"\")\n",
    "                    filter_capital_structure.to_csv(f'Datasets/Pruebas/capitalstructure_{company_name}_2015to2020.csv', index = False, header=True)\n",
    "                    break;\n",
    "                else:\n",
    "                    print()\n",
    "                    print('Invalid option')\n",
    "                    break;\n",
    "            print()\n",
    "            print('******Thanks for using Capital Structure App :) *******')\n",
    "            print()\n",
    "            print('Loading.......')\n",
    "            print()\n",
    "            financial_infomenu()\n",
    "        else:\n",
    "            print('------Invalid option-------')\n",
    "            print()\n",
    "            financial_infomenu()\n",
    "\n",
    "    print('Thanks for using this app')"
   ]
  },
  {
   "cell_type": "markdown",
   "id": "782049b3-d1e5-4704-9e0d-6f36dafb6fbe",
   "metadata": {},
   "source": [
    "**Continua estructura:**"
   ]
  },
  {
   "cell_type": "code",
   "execution_count": 28,
   "id": "79e14d23-83bb-4ed2-897c-4218128ca544",
   "metadata": {},
   "outputs": [],
   "source": [
    "def balance_compa():\n",
    "    balance_company = balance.copy(deep = True) \n",
    "    balance_filter = balance_company[balance_company['Symbol'] == company]\n",
    "    balance_filter = balance_filter[['Year','Symbol', \"TOTAL_ASSETS\", 'TOTAL_LIAB', 'TOTAL_EQUITY']]\n",
    "    balance_filter = balance_filter.rename(columns = {\"TOTAL_ASSETS\":'Assets', 'TOTAL_LIAB':'Liabilities', 'TOTAL_EQUITY':'Equity'})\n",
    "    fig = go.Figure(data=[\n",
    "        go.Bar(name='Assets', x=balance_filter['Year'], y=balance_filter['Assets'], marker_color = '#1434A4', text = balance_filter['Assets']),\n",
    "        go.Bar(name='Liabilities', x=balance_filter['Year'], y=balance_filter['Liabilities'], marker_color = '#89CFF0', text = balance_filter['Liabilities']),\n",
    "        go.Bar(name='Equity', x=balance_filter['Year'], y=balance_filter['Equity'], marker_color = '#40B5AD', text = balance_filter['Equity'])\n",
    "    ])\n",
    "    fig.update_traces(texttemplate='%{text:.2s}', textposition='inside')\n",
    "    fig.update_layout(title=f'Balance sheet of {company_name}')\n",
    "    fig.update_xaxes(title_text='Years')\n",
    "    fig.update_yaxes(title_text='\"000\" USD')\n",
    "    fig.show()"
   ]
  },
  {
   "cell_type": "code",
   "execution_count": 37,
   "id": "bac1934c-ea4a-4f72-8168-3153d53178ad",
   "metadata": {},
   "outputs": [],
   "source": [
    "def income_compa():\n",
    "    income_company = income.copy(deep = True) \n",
    "    income_filter = income_company[income_company['Symbol'] == company]\n",
    "    income_filter = income_filter[['Year','Symbol', \"TOTAL_REVENUES\", 'GROSS_PROFIT', 'CONSOLIDATED_EBITDA','EBIT','EBT','NET_INCOME_INCL_EI', 'NET_INCOME_EXCL_EI']]\n",
    "    income_filter = income_filter.rename(columns = {\"TOTAL_REVENUES\":'Revenues', 'GROSS_PROFIT':'Gross Profit','CONSOLIDATED_EBITDA':'EBITDA','NET_INCOME_INCL_EI':'Net Income + Ext Items','NET_INCOME_EXCL_EI':'Net Income'})\n",
    "    income_filter = income_filter.sort_values(by = 'Year')\n",
    "    fig = go.Figure()\n",
    "    fig.add_trace(go.Scatter(name='Revenues', x=income_filter['Year'], y=income_filter['Revenues'], marker_color = '#f04652'))\n",
    "    fig.add_trace(go.Scatter(name='Gross Profit', x=income_filter['Year'], y=income_filter['Gross Profit'], marker_color = '#082b5e', text = income_filter['Gross Profit']))\n",
    "    fig.add_trace(go.Scatter(name='EBITDA', x=income_filter['Year'], y=income_filter['EBITDA'], marker_color = '#1167b1'))\n",
    "    fig.add_trace(go.Scatter(name='EBIT', x=income_filter['Year'], y=income_filter['EBIT'], marker_color = '#93a0ee'))\n",
    "    fig.add_trace(go.Scatter(name='EBT', x=income_filter['Year'], y=income_filter['EBT'], marker_color = '#a26fa0'))\n",
    "    fig.add_trace(go.Scatter(name='Net Income + Ext Items', x=income_filter['Year'], y=income_filter['Net Income + Ext Items'], marker_color = '#4cefb9'))\n",
    "    fig.add_trace(go.Scatter(name='Net Income', x=income_filter['Year'], y=income_filter['Net Income'], marker_color = '#25b579'))\n",
    "    fig.update_layout(title=f'Income statement of {company_name} / Principal items')\n",
    "    fig.update_xaxes(title_text='Years')\n",
    "    fig.update_yaxes(title_text='\"000\" USD')\n",
    "    fig.show()"
   ]
  },
  {
   "cell_type": "code",
   "execution_count": 39,
   "id": "1849d9a0-991a-48dc-94dd-ee3a1e4402f3",
   "metadata": {},
   "outputs": [],
   "source": [
    "def evolution_debt ():\n",
    "    lev = leverage.copy(deep = True)\n",
    "    lev_sub = lev.merge(comp[['Symbol','GICS_SubIndustry']], on = \"Symbol\", how = 'left')\n",
    "    lev_sub_nf = lev_sub[(lev_sub['Sector_x'] != 'Financials') & (lev_sub['TOTAL_DEBT'] != 0)]\n",
    "    evo_debt = lev_sub_nf.groupby([\"Sector_x\",'Year']).sum()\n",
    "    sns.set_theme(style=\"darkgrid\", font_scale =1)\n",
    "    plt.figure(figsize = (10, 8))\n",
    "    evodebt = sns.lineplot(x = 'Year', y = 'TOTAL_DEBT', data = evo_debt, hue = 'Sector_x', linewidth = 3)\n",
    "    evodebt.set_title('Evolution of debt in S&P 500', size = 23, fontweight = 'bold')\n",
    "    evodebt.set_xlabel('Year', size = 15, fontweight = 'bold')\n",
    "    evodebt.set_ylabel('Debt in USD (000)', size = 15, fontweight = 'bold')\n",
    "    evodebt.legend(title = 'Sector', loc = 2, bbox_to_anchor = (1,1), fontsize = 12, title_fontsize = 15)\n",
    "    ylabels = ['{:,.0f}'.format(x) + 'K' for x in evodebt.get_yticks()/1000]\n",
    "    evodebt.set_yticklabels(ylabels, size = 12)\n",
    "    xlabels = ['{:.0f}'.format(x) for x in evodebt.get_xticks()]\n",
    "    evodebt.set_xticklabels(xlabels, size = 12)\n",
    "    evodebt"
   ]
  },
  {
   "cell_type": "code",
   "execution_count": 31,
   "id": "28563ee7-d94d-4a47-aeca-9a9711d9269e",
   "metadata": {},
   "outputs": [],
   "source": [
    "def statistics_industry():\n",
    "    df_lev = df_ratio.copy(deep = True)\n",
    "    df_lev = df_lev[(df_lev['Sector_x'] == sector_company) & (df_lev['Year'] == year) & (df_lev['GICS_SubIndustry'] == industry_company)]\n",
    "    df_lev = df_lev.rename(columns = {'TOTAL_DEBT':'Debt',\"TOTAL_REVENUES\":'Revenues', 'GROSS_PROFIT':'Gross Profit','CONSOLIDATED_EBITDA':'EBITDA_CON','NET_INCOME_INCL_EI':'Net Income + Ext Items','NET_INCOME_EXCL_EI':'Net Income'})\n",
    "    fig = go.Figure()\n",
    "    fig.add_trace(go.Box(y=df_lev['Revenues'], quartilemethod=\"linear\", name= 'Revenues'))\n",
    "    fig.add_trace(go.Box(y=df_lev['EBITDA_CON'], quartilemethod='linear', name= 'EBITDA'))\n",
    "    fig.add_trace(go.Box(y=df_lev['Net Income'], quartilemethod='linear', name= 'Net Income'))\n",
    "    fig.add_trace(go.Box(y=df_lev['CASH'], quartilemethod='linear', name= 'Cash'))\n",
    "    fig.add_trace(go.Box(y=df_lev['INVENTORY'], quartilemethod='linear', name= 'Inventory'))\n",
    "    fig.add_trace(go.Box(y=df_lev['RECEIVABLES'], quartilemethod='linear', name= 'Receivables'))\n",
    "    fig.add_trace(go.Box(y=df_lev['INTANGIBLES_GW'], quartilemethod='linear', name= 'Goodwill'))\n",
    "    fig.add_trace(go.Box(y=df_lev['PAYABLES'], quartilemethod='linear', name= 'Payables'))\n",
    "    fig.add_trace(go.Box(y=df_lev['Debt'], quartilemethod='linear', name= 'Debt'))\n",
    "    fig.add_trace(go.Box(y=df_lev['TOTAL_EQUITY'], quartilemethod='linear', name= 'Equity'))\n",
    "    fig.update_layout(\n",
    "        title=go.layout.Title(\n",
    "            text=f\"Statistics for sector: {sector_company} for year {year}  <br><sup>{industry_company}</sup>\",\n",
    "            xref=\"paper\",\n",
    "            x=0\n",
    "        ))\n",
    "    fig.update_yaxes(title_text='\"000\" USD')\n",
    "    fig.show()"
   ]
  },
  {
   "cell_type": "code",
   "execution_count": 32,
   "id": "0a954f30-72e1-41dd-8bdc-2568526b7360",
   "metadata": {},
   "outputs": [],
   "source": [
    "def complete_ratios():\n",
    "    ratios_all = reduce(lambda x,y: pd.merge(x,y, on=['Symbol', 'Year'], how='outer'), [leverage, coverage, liquidity, profitability])\n",
    "    ratios_all.dtypes\n",
    "    ratios_all = ratios_all[['Symbol','Year','Company_Name_x_x','Sector_x_y','GICS_SubIndustry_x','TOTAL_DEBT_x','DEBT_TO_ASSETS','DEBT_TO_EQUITY','DEBT_TO_CAPITAL','DEBT_TO_EBITDA','DEBT_TO_EBITDAR','ASSET_TO_EQUITY','LIABILITIES_TO_EQUITY','INTEREST_COVERAGE','DEBT_SERVICE_COVERAGE','CASH_COVERAGE','ASSET_COVERAGE','CURRENT_RATIO','QUICK_RATIO','CASH_RATIO','EBITDA_MARGIN','GROSS_MARGIN','EBIT_MARGIN','NET_MARGIN','ROA','ROE']]\n",
    "    ratios_all = ratios_all.loc[:,~ratios_all.columns.duplicated()]\n",
    "    ratios_all = ratios_all.rename(columns = {'Company_Name_x_x':'Company Name', 'Sector_x_y':'Sector', 'GICS_SubIndustry_x':'Industry'})\n",
    "    count_nan = ratios_all.isnull().sum()\n",
    "    count_nan\n",
    "    ratios_all_comp = ratios_all[(ratios_all['Sector'] == sector_company) & (ratios_all['Year'] == year) & (ratios_all['Industry'] == industry_company)]\n",
    "    #fig = px.bar(ratios_all_comp, y='DEBT_TO_ASSETS', x='Company Name', text='DEBT_TO_ASSETS')\n",
    "    fig = go.Figure(data=[\n",
    "        go.Bar(x=ratios_all_comp['Company Name'], y=ratios_all_comp['LIABILITIES_TO_EQUITY'], text = ratios_all_comp['LIABILITIES_TO_EQUITY'], name = 'Liabilities to equity'),\n",
    "        go.Bar(x=ratios_all_comp['Company Name'], y=ratios_all_comp['ASSET_TO_EQUITY'], text = ratios_all_comp['ASSET_TO_EQUITY'], name = 'Assets to Equity'),\n",
    "        go.Bar(x=ratios_all_comp['Company Name'], y=ratios_all_comp['DEBT_TO_EBITDA'], text = ratios_all_comp['DEBT_TO_EBITDA'], name = 'Debt to EBITDA')\n",
    "    ])\n",
    "    fig.update_traces(texttemplate='%{text:.2}x', textposition='outside')\n",
    "    fig.update_layout(\n",
    "            title=go.layout.Title(\n",
    "                text=f\"Leverage Ratios and comparables for: {company_name} year {year}  <br><sup>Sector: {sector_company}, Industry: {industry_company}</sup>\",\n",
    "                xref=\"paper\",\n",
    "                x=0\n",
    "            ), uniformtext_minsize=5, uniformtext_mode='hide')\n",
    "    fig.update_yaxes(title_text='Times')\n",
    "    fig.show()\n",
    "    #####COVERAGE\n",
    "    fig2 = go.Figure(data=[\n",
    "        go.Bar(x=ratios_all_comp['Company Name'], y=ratios_all_comp['INTEREST_COVERAGE'], text = ratios_all_comp['INTEREST_COVERAGE'], name = 'Interest Coverage'),\n",
    "        go.Bar(x=ratios_all_comp['Company Name'], y=ratios_all_comp['DEBT_SERVICE_COVERAGE'], text = ratios_all_comp['DEBT_SERVICE_COVERAGE'], name = 'Debt Service Coverage'),\n",
    "        go.Bar(x=ratios_all_comp['Company Name'], y=ratios_all_comp['CASH_COVERAGE'], text = ratios_all_comp['CASH_COVERAGE'], name = 'Cash Coverage'),\n",
    "    ])\n",
    "    fig2.update_traces(texttemplate='%{text:.2}x', textposition='outside')\n",
    "    fig2.update_layout(\n",
    "            title=go.layout.Title(\n",
    "                text=f\"Coverage Ratios and comparables for: {company_name} year {year}  <br><sup>Sector: {sector_company}, Industry: {industry_company}</sup>\",\n",
    "                xref=\"paper\",\n",
    "                x=0\n",
    "            ), uniformtext_minsize=5, uniformtext_mode='hide')\n",
    "    fig2.update_yaxes(title_text='Times')\n",
    "    fig2.show()\n",
    "\n",
    "    ####liquidity\n",
    "    fig3 = go.Figure(data=[\n",
    "        go.Bar(x=ratios_all_comp['Company Name'], y=ratios_all_comp['CURRENT_RATIO'], text = ratios_all_comp['CURRENT_RATIO'], name = 'Current Ratio'),\n",
    "        go.Bar(x=ratios_all_comp['Company Name'], y=ratios_all_comp['QUICK_RATIO'], text = ratios_all_comp['QUICK_RATIO'], name = 'Quick Ratio'),\n",
    "        go.Bar(x=ratios_all_comp['Company Name'], y=ratios_all_comp['CASH_RATIO'], text = ratios_all_comp['CASH_RATIO'], name = 'Cash Ratio'),\n",
    "    ])\n",
    "    fig3.update_traces(texttemplate='%{text:.2}x', textposition='outside')\n",
    "    fig3.update_layout(\n",
    "            title=go.layout.Title(\n",
    "                text=f\"Liquidity Ratios and comparables for: {company_name} year {year}  <br><sup>Sector: {sector_company}, Industry: {industry_company}</sup>\",\n",
    "                xref=\"paper\",\n",
    "                x=0\n",
    "            ), uniformtext_minsize=5, uniformtext_mode='hide')\n",
    "    fig3.update_yaxes(title_text='Times')\n",
    "    fig3.show()\n",
    "\n",
    "    ####Profitability\n",
    "    fig4 = go.Figure(data=[\n",
    "        go.Bar(x=ratios_all_comp['Company Name'], y=ratios_all_comp['GROSS_MARGIN'], text = ratios_all_comp['GROSS_MARGIN'], name = 'Gross Margin'),\n",
    "        go.Bar(x=ratios_all_comp['Company Name'], y=ratios_all_comp['EBITDA_MARGIN'], text = ratios_all_comp['EBITDA_MARGIN'], name = 'EBITDA Margin'),\n",
    "        go.Bar(x=ratios_all_comp['Company Name'], y=ratios_all_comp['EBIT_MARGIN'], text = ratios_all_comp['EBIT_MARGIN'], name = 'EBIT Margin'),\n",
    "        go.Bar(x=ratios_all_comp['Company Name'], y=ratios_all_comp['NET_MARGIN'], text = ratios_all_comp['NET_MARGIN'], name = 'Net Margin'),\n",
    "        go.Bar(x=ratios_all_comp['Company Name'], y=ratios_all_comp['ROA'], text = ratios_all_comp['ROA'], name = 'ROA'),\n",
    "        go.Bar(x=ratios_all_comp['Company Name'], y=ratios_all_comp['ROE'], text = ratios_all_comp['ROE'], name = 'ROE')\n",
    "    ])\n",
    "    fig4.update_traces(texttemplate='%{text:.2}%', textposition='outside')\n",
    "    fig4.update_layout(\n",
    "            title=go.layout.Title(\n",
    "                text=f\"Profitability Ratios and comparables for: {company_name} year {year}  <br><sup>Sector: {sector_company}, Industry: {industry_company}</sup>\",\n",
    "                xref=\"paper\",\n",
    "                x=0\n",
    "            ), uniformtext_minsize=5, uniformtext_mode='hide')\n",
    "    fig4.update_yaxes(title_text='Percentage (1 = 100%)')\n",
    "    fig4.show()"
   ]
  },
  {
   "cell_type": "code",
   "execution_count": 33,
   "id": "caf5cf39-50c3-4be1-98d4-3d2f5c429f22",
   "metadata": {},
   "outputs": [],
   "source": [
    "def validate_year():    \n",
    "    global year\n",
    "    year = int(input('Select a Year (for 2015 to 2020 format: YYYY): '))\n",
    "    while year != 0:\n",
    "        if year in list_year:\n",
    "            break;\n",
    "        else:\n",
    "            print()\n",
    "            print('Sorry my data base is limited from 2015 to 2020')\n",
    "            print()\n",
    "            print('Try with this years: 2015, 2016, 2017, 2018, 2019, 2020')\n",
    "            print()\n",
    "        year = int(input('Select a Year (for 2015 to 2020 format: YYYY): '))\n"
   ]
  },
  {
   "cell_type": "markdown",
   "id": "c490804b-e0f7-4974-865f-5ee0ddb2d636",
   "metadata": {},
   "source": [
    "# ESTE ES EL PROGRAMA / ANÁLISIS:"
   ]
  },
  {
   "cell_type": "code",
   "execution_count": 40,
   "id": "bb881e37-8e47-4fab-979b-0c58a6ce1eec",
   "metadata": {},
   "outputs": [
    {
     "name": "stdin",
     "output_type": "stream",
     "text": [
      "BeFinData, please login:  1\n"
     ]
    },
    {
     "name": "stdout",
     "output_type": "stream",
     "text": [
      "Welcome 1! :)\n",
      "----- MENU -----\n",
      "\n",
      "[1] Financial Information\n",
      "[2] Financial Analysis\n",
      "[3] Market information\n",
      "[0] Exit\n"
     ]
    },
    {
     "name": "stdin",
     "output_type": "stream",
     "text": [
      "-------Select one option:------- 3\n"
     ]
    },
    {
     "ename": "NameError",
     "evalue": "name 'comp' is not defined",
     "output_type": "error",
     "traceback": [
      "\u001b[1;31m---------------------------------------------------------------------------\u001b[0m",
      "\u001b[1;31mNameError\u001b[0m                                 Traceback (most recent call last)",
      "\u001b[1;32m<ipython-input-40-66a3e9aeae22>\u001b[0m in \u001b[0;36m<module>\u001b[1;34m\u001b[0m\n\u001b[0;32m     29\u001b[0m             \u001b[0mMenu\u001b[0m\u001b[1;33m(\u001b[0m\u001b[1;33m)\u001b[0m\u001b[1;33m\u001b[0m\u001b[1;33m\u001b[0m\u001b[0m\n\u001b[0;32m     30\u001b[0m     \u001b[1;32melif\u001b[0m \u001b[0mmenu\u001b[0m \u001b[1;33m==\u001b[0m \u001b[1;36m3\u001b[0m\u001b[1;33m:\u001b[0m\u001b[1;33m\u001b[0m\u001b[1;33m\u001b[0m\u001b[0m\n\u001b[1;32m---> 31\u001b[1;33m         \u001b[0mevolution_debt\u001b[0m\u001b[1;33m(\u001b[0m\u001b[1;33m)\u001b[0m\u001b[1;33m\u001b[0m\u001b[1;33m\u001b[0m\u001b[0m\n\u001b[0m\u001b[0;32m     32\u001b[0m         \u001b[0mMenu\u001b[0m\u001b[1;33m(\u001b[0m\u001b[1;33m)\u001b[0m\u001b[1;33m\u001b[0m\u001b[1;33m\u001b[0m\u001b[0m\n\u001b[0;32m     33\u001b[0m     \u001b[1;32melse\u001b[0m\u001b[1;33m:\u001b[0m\u001b[1;33m\u001b[0m\u001b[1;33m\u001b[0m\u001b[0m\n",
      "\u001b[1;32m<ipython-input-39-8077b690c277>\u001b[0m in \u001b[0;36mevolution_debt\u001b[1;34m()\u001b[0m\n\u001b[0;32m      1\u001b[0m \u001b[1;32mdef\u001b[0m \u001b[0mevolution_debt\u001b[0m \u001b[1;33m(\u001b[0m\u001b[1;33m)\u001b[0m\u001b[1;33m:\u001b[0m\u001b[1;33m\u001b[0m\u001b[1;33m\u001b[0m\u001b[0m\n\u001b[0;32m      2\u001b[0m     \u001b[0mlev\u001b[0m \u001b[1;33m=\u001b[0m \u001b[0mleverage\u001b[0m\u001b[1;33m.\u001b[0m\u001b[0mcopy\u001b[0m\u001b[1;33m(\u001b[0m\u001b[0mdeep\u001b[0m \u001b[1;33m=\u001b[0m \u001b[1;32mTrue\u001b[0m\u001b[1;33m)\u001b[0m\u001b[1;33m\u001b[0m\u001b[1;33m\u001b[0m\u001b[0m\n\u001b[1;32m----> 3\u001b[1;33m     \u001b[0mlev_sub\u001b[0m \u001b[1;33m=\u001b[0m \u001b[0mlev\u001b[0m\u001b[1;33m.\u001b[0m\u001b[0mmerge\u001b[0m\u001b[1;33m(\u001b[0m\u001b[0mcomp\u001b[0m\u001b[1;33m[\u001b[0m\u001b[1;33m[\u001b[0m\u001b[1;34m'Symbol'\u001b[0m\u001b[1;33m,\u001b[0m\u001b[1;34m'GICS_SubIndustry'\u001b[0m\u001b[1;33m]\u001b[0m\u001b[1;33m]\u001b[0m\u001b[1;33m,\u001b[0m \u001b[0mon\u001b[0m \u001b[1;33m=\u001b[0m \u001b[1;34m\"Symbol\"\u001b[0m\u001b[1;33m,\u001b[0m \u001b[0mhow\u001b[0m \u001b[1;33m=\u001b[0m \u001b[1;34m'left'\u001b[0m\u001b[1;33m)\u001b[0m\u001b[1;33m\u001b[0m\u001b[1;33m\u001b[0m\u001b[0m\n\u001b[0m\u001b[0;32m      4\u001b[0m     \u001b[0mlev_sub_nf\u001b[0m \u001b[1;33m=\u001b[0m \u001b[0mlev_sub\u001b[0m\u001b[1;33m[\u001b[0m\u001b[1;33m(\u001b[0m\u001b[0mlev_sub\u001b[0m\u001b[1;33m[\u001b[0m\u001b[1;34m'Sector_x'\u001b[0m\u001b[1;33m]\u001b[0m \u001b[1;33m!=\u001b[0m \u001b[1;34m'Financials'\u001b[0m\u001b[1;33m)\u001b[0m \u001b[1;33m&\u001b[0m \u001b[1;33m(\u001b[0m\u001b[0mlev_sub\u001b[0m\u001b[1;33m[\u001b[0m\u001b[1;34m'TOTAL_DEBT'\u001b[0m\u001b[1;33m]\u001b[0m \u001b[1;33m!=\u001b[0m \u001b[1;36m0\u001b[0m\u001b[1;33m)\u001b[0m\u001b[1;33m]\u001b[0m\u001b[1;33m\u001b[0m\u001b[1;33m\u001b[0m\u001b[0m\n\u001b[0;32m      5\u001b[0m     \u001b[0mevo_debt\u001b[0m \u001b[1;33m=\u001b[0m \u001b[0mlev_sub_nf\u001b[0m\u001b[1;33m.\u001b[0m\u001b[0mgroupby\u001b[0m\u001b[1;33m(\u001b[0m\u001b[1;33m[\u001b[0m\u001b[1;34m\"Sector_x\"\u001b[0m\u001b[1;33m,\u001b[0m\u001b[1;34m'Year'\u001b[0m\u001b[1;33m]\u001b[0m\u001b[1;33m)\u001b[0m\u001b[1;33m.\u001b[0m\u001b[0msum\u001b[0m\u001b[1;33m(\u001b[0m\u001b[1;33m)\u001b[0m\u001b[1;33m\u001b[0m\u001b[1;33m\u001b[0m\u001b[0m\n",
      "\u001b[1;31mNameError\u001b[0m: name 'comp' is not defined"
     ]
    }
   ],
   "source": [
    "login()\n",
    "Menu()\n",
    "while menu != 0:\n",
    "    if menu == 1:\n",
    "        company_validate()\n",
    "        while True:\n",
    "            financial_print()\n",
    "            end = int(input('Exit?: [1] No [2] Yes'))\n",
    "            if end != 2:\n",
    "                break;\n",
    "            break;\n",
    "        if end == 2:\n",
    "            Menu()\n",
    "    elif menu == 2:\n",
    "        company_validate()\n",
    "        print()\n",
    "        validate_year()\n",
    "        print()\n",
    "        while True:\n",
    "            balance_compa()\n",
    "            income_compa()\n",
    "            statistics_industry()\n",
    "            complete_ratios()\n",
    "            end = int(input('Exit?: [1] No [2] Yes'))\n",
    "            if end != 2:\n",
    "                break;\n",
    "            break;\n",
    "        if end == 2:\n",
    "            Menu()\n",
    "    elif menu == 3:\n",
    "        evolution_debt()\n",
    "        Menu()\n",
    "    else:\n",
    "        print('Incorrect number')\n",
    "        Menu()\n",
    "print('See you soon :)')"
   ]
  },
  {
   "cell_type": "markdown",
   "id": "fa560fb5-b847-45e6-b83d-b62260f440b7",
   "metadata": {},
   "source": [
    "# Futuros pasos:\n",
    "\n",
    "Se considera en algún futuro cercano lo siguiente:\n",
    "1. Ocupar herramientas de Machine Learning para desarrollar un análisis de crédito y asignar alguna calificación crediticia\n",
    "2. Ocupar los dataset disponibles para generar una valuación (falta el dataset de cash flow)\n",
    "3. Conectar a alguna API de información financiera y poder generar algunos modelos para precio de la acción futuro, considerando cruzar con algunas otras variables\n",
    "4. Sigo considerando nuevas ideas jajaja\n",
    "\n"
   ]
  },
  {
   "cell_type": "markdown",
   "id": "0a28a0d6-6e41-49bb-8983-c36def2a9075",
   "metadata": {},
   "source": [
    "# Gracias por su atención :)"
   ]
  }
 ],
 "metadata": {
  "kernelspec": {
   "display_name": "Python 3",
   "language": "python",
   "name": "python3"
  },
  "language_info": {
   "codemirror_mode": {
    "name": "ipython",
    "version": 3
   },
   "file_extension": ".py",
   "mimetype": "text/x-python",
   "name": "python",
   "nbconvert_exporter": "python",
   "pygments_lexer": "ipython3",
   "version": "3.9.1"
  }
 },
 "nbformat": 4,
 "nbformat_minor": 5
}
